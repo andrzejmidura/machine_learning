{
 "cells": [
  {
   "cell_type": "code",
   "execution_count": 10,
   "id": "1a6bb67c-37dc-44c6-a8d1-cb5aed110b18",
   "metadata": {},
   "outputs": [],
   "source": [
    "from sklearn import datasets\n",
    "from sklearn.model_selection import train_test_split\n",
    "import numpy as np\n",
    "from sklearn.pipeline import Pipeline\n",
    "from sklearn.preprocessing import StandardScaler\n",
    "from sklearn.svm import LinearSVC"
   ]
  },
  {
   "cell_type": "code",
   "execution_count": 2,
   "id": "004960f3-f200-4367-8dda-ae4ebe129076",
   "metadata": {},
   "outputs": [
    {
     "name": "stdout",
     "output_type": "stream",
     "text": [
      ".. _breast_cancer_dataset:\n",
      "\n",
      "Breast cancer wisconsin (diagnostic) dataset\n",
      "--------------------------------------------\n",
      "\n",
      "**Data Set Characteristics:**\n",
      "\n",
      "    :Number of Instances: 569\n",
      "\n",
      "    :Number of Attributes: 30 numeric, predictive attributes and the class\n",
      "\n",
      "    :Attribute Information:\n",
      "        - radius (mean of distances from center to points on the perimeter)\n",
      "        - texture (standard deviation of gray-scale values)\n",
      "        - perimeter\n",
      "        - area\n",
      "        - smoothness (local variation in radius lengths)\n",
      "        - compactness (perimeter^2 / area - 1.0)\n",
      "        - concavity (severity of concave portions of the contour)\n",
      "        - concave points (number of concave portions of the contour)\n",
      "        - symmetry\n",
      "        - fractal dimension (\"coastline approximation\" - 1)\n",
      "\n",
      "        The mean, standard error, and \"worst\" or largest (mean of the three\n",
      "        worst/largest values) of these features were computed for each image,\n",
      "        resulting in 30 features.  For instance, field 0 is Mean Radius, field\n",
      "        10 is Radius SE, field 20 is Worst Radius.\n",
      "\n",
      "        - class:\n",
      "                - WDBC-Malignant\n",
      "                - WDBC-Benign\n",
      "\n",
      "    :Summary Statistics:\n",
      "\n",
      "    ===================================== ====== ======\n",
      "                                           Min    Max\n",
      "    ===================================== ====== ======\n",
      "    radius (mean):                        6.981  28.11\n",
      "    texture (mean):                       9.71   39.28\n",
      "    perimeter (mean):                     43.79  188.5\n",
      "    area (mean):                          143.5  2501.0\n",
      "    smoothness (mean):                    0.053  0.163\n",
      "    compactness (mean):                   0.019  0.345\n",
      "    concavity (mean):                     0.0    0.427\n",
      "    concave points (mean):                0.0    0.201\n",
      "    symmetry (mean):                      0.106  0.304\n",
      "    fractal dimension (mean):             0.05   0.097\n",
      "    radius (standard error):              0.112  2.873\n",
      "    texture (standard error):             0.36   4.885\n",
      "    perimeter (standard error):           0.757  21.98\n",
      "    area (standard error):                6.802  542.2\n",
      "    smoothness (standard error):          0.002  0.031\n",
      "    compactness (standard error):         0.002  0.135\n",
      "    concavity (standard error):           0.0    0.396\n",
      "    concave points (standard error):      0.0    0.053\n",
      "    symmetry (standard error):            0.008  0.079\n",
      "    fractal dimension (standard error):   0.001  0.03\n",
      "    radius (worst):                       7.93   36.04\n",
      "    texture (worst):                      12.02  49.54\n",
      "    perimeter (worst):                    50.41  251.2\n",
      "    area (worst):                         185.2  4254.0\n",
      "    smoothness (worst):                   0.071  0.223\n",
      "    compactness (worst):                  0.027  1.058\n",
      "    concavity (worst):                    0.0    1.252\n",
      "    concave points (worst):               0.0    0.291\n",
      "    symmetry (worst):                     0.156  0.664\n",
      "    fractal dimension (worst):            0.055  0.208\n",
      "    ===================================== ====== ======\n",
      "\n",
      "    :Missing Attribute Values: None\n",
      "\n",
      "    :Class Distribution: 212 - Malignant, 357 - Benign\n",
      "\n",
      "    :Creator:  Dr. William H. Wolberg, W. Nick Street, Olvi L. Mangasarian\n",
      "\n",
      "    :Donor: Nick Street\n",
      "\n",
      "    :Date: November, 1995\n",
      "\n",
      "This is a copy of UCI ML Breast Cancer Wisconsin (Diagnostic) datasets.\n",
      "https://goo.gl/U2Uwz2\n",
      "\n",
      "Features are computed from a digitized image of a fine needle\n",
      "aspirate (FNA) of a breast mass.  They describe\n",
      "characteristics of the cell nuclei present in the image.\n",
      "\n",
      "Separating plane described above was obtained using\n",
      "Multisurface Method-Tree (MSM-T) [K. P. Bennett, \"Decision Tree\n",
      "Construction Via Linear Programming.\" Proceedings of the 4th\n",
      "Midwest Artificial Intelligence and Cognitive Science Society,\n",
      "pp. 97-101, 1992], a classification method which uses linear\n",
      "programming to construct a decision tree.  Relevant features\n",
      "were selected using an exhaustive search in the space of 1-4\n",
      "features and 1-3 separating planes.\n",
      "\n",
      "The actual linear program used to obtain the separating plane\n",
      "in the 3-dimensional space is that described in:\n",
      "[K. P. Bennett and O. L. Mangasarian: \"Robust Linear\n",
      "Programming Discrimination of Two Linearly Inseparable Sets\",\n",
      "Optimization Methods and Software 1, 1992, 23-34].\n",
      "\n",
      "This database is also available through the UW CS ftp server:\n",
      "\n",
      "ftp ftp.cs.wisc.edu\n",
      "cd math-prog/cpo-dataset/machine-learn/WDBC/\n",
      "\n",
      ".. topic:: References\n",
      "\n",
      "   - W.N. Street, W.H. Wolberg and O.L. Mangasarian. Nuclear feature extraction \n",
      "     for breast tumor diagnosis. IS&T/SPIE 1993 International Symposium on \n",
      "     Electronic Imaging: Science and Technology, volume 1905, pages 861-870,\n",
      "     San Jose, CA, 1993.\n",
      "   - O.L. Mangasarian, W.N. Street and W.H. Wolberg. Breast cancer diagnosis and \n",
      "     prognosis via linear programming. Operations Research, 43(4), pages 570-577, \n",
      "     July-August 1995.\n",
      "   - W.H. Wolberg, W.N. Street, and O.L. Mangasarian. Machine learning techniques\n",
      "     to diagnose breast cancer from fine-needle aspirates. Cancer Letters 77 (1994) \n",
      "     163-171.\n"
     ]
    }
   ],
   "source": [
    "data = datasets.load_breast_cancer()\n",
    "print(data['DESCR'])"
   ]
  },
  {
   "cell_type": "code",
   "execution_count": 24,
   "id": "8a21f00c-009b-4830-ac1f-8012a6290604",
   "metadata": {},
   "outputs": [],
   "source": [
    "X, y = data.data[:, 3:5], data.target"
   ]
  },
  {
   "cell_type": "code",
   "execution_count": 25,
   "id": "87b830cb-0eb2-4042-b739-b488055f70ca",
   "metadata": {},
   "outputs": [],
   "source": [
    "X_train, X_test, y_train, y_test = train_test_split(X, y, test_size=0.2)"
   ]
  },
  {
   "cell_type": "code",
   "execution_count": 38,
   "id": "b50772bb-fecf-4ce3-9bd6-a1733049500a",
   "metadata": {},
   "outputs": [
    {
     "name": "stderr",
     "output_type": "stream",
     "text": [
      "C:\\Users\\andrzej\\AppData\\Local\\Programs\\Python\\Python39\\lib\\site-packages\\sklearn\\svm\\_base.py:1206: ConvergenceWarning: Liblinear failed to converge, increase the number of iterations.\n",
      "  warnings.warn(\n"
     ]
    }
   ],
   "source": [
    "svm_clf_noscaling = Pipeline([(\"linear_svc\", LinearSVC(C=1, loss=\"hinge\", random_state=42, max_iter=1000000))])\n",
    "svm_clf_scaling = Pipeline([(\"scaler\", StandardScaler()), (\"linear_svc\", LinearSVC(C=0.1, loss=\"hinge\", random_state=42))])\n",
    "svm_clf_noscaling.fit(X_train, y_train)\n",
    "svm_clf_scaling.fit(X_train, y_train)\n",
    "\n",
    "svm_clf_noscaling_test = svm_clf_noscaling.predict(X_test)\n",
    "svm_clf_noscaling_train = svm_clf_noscaling.predict(X_train)\n",
    "svm_clf_scaling_test = svm_clf_scaling.predict(X_test)\n",
    "svm_clf_scaling_train = svm_clf_scaling.predict(X_train)"
   ]
  },
  {
   "cell_type": "code",
   "execution_count": 42,
   "id": "08082725-3cea-41c8-bfc1-4658f294b312",
   "metadata": {},
   "outputs": [],
   "source": [
    "train_noscaling = test_noscaling = train_scaling = test_scaling = 0\n",
    "\n",
    "for i in range(len(y_train)):\n",
    "    if y_train[i] == svm_clf_noscaling_train[i]:\n",
    "        train_noscaling += 1\n",
    "    if y_train[i] == svm_clf_scaling_train[i]:\n",
    "        train_scaling += 1\n",
    "\n",
    "for i in range(len(y_test)):\n",
    "    if y_test[i] == svm_clf_noscaling_test[i]:\n",
    "        test_noscaling += 1\n",
    "    if y_test[i] == svm_clf_scaling_test[i]:\n",
    "        test_scaling += 1"
   ]
  },
  {
   "cell_type": "code",
   "execution_count": 44,
   "id": "890969f8-45d2-4623-8490-9bfb0209ff0a",
   "metadata": {},
   "outputs": [
    {
     "ename": "NameError",
     "evalue": "name 'svm_clf_train_noscaling' is not defined",
     "output_type": "error",
     "traceback": [
      "\u001b[1;31m---------------------------------------------------------------------------\u001b[0m",
      "\u001b[1;31mNameError\u001b[0m                                 Traceback (most recent call last)",
      "Input \u001b[1;32mIn [44]\u001b[0m, in \u001b[0;36m<cell line: 1>\u001b[1;34m()\u001b[0m\n\u001b[1;32m----> 1\u001b[0m bc_acc_train_noscaling \u001b[38;5;241m=\u001b[39m train_noscaling\u001b[38;5;241m/\u001b[39m\u001b[38;5;28mlen\u001b[39m(\u001b[43msvm_clf_train_noscaling\u001b[49m)\n\u001b[0;32m      2\u001b[0m bc_acc_test_noscaling \u001b[38;5;241m=\u001b[39m test_noscaling\u001b[38;5;241m/\u001b[39m\u001b[38;5;28mlen\u001b[39m(svm_clf_test_noscaling)\n\u001b[0;32m      3\u001b[0m bc_acc_train_scaling \u001b[38;5;241m=\u001b[39m train_scaling\u001b[38;5;241m/\u001b[39m\u001b[38;5;28mlen\u001b[39m(svm_clf_train_scaling)\n",
      "\u001b[1;31mNameError\u001b[0m: name 'svm_clf_train_noscaling' is not defined"
     ]
    }
   ],
   "source": [
    "bc_acc_train_noscaling = train_noscaling/len(svm_clf_train_noscaling)\n",
    "bc_acc_test_noscaling = test_noscaling/len(svm_clf_test_noscaling)\n",
    "bc_acc_train_scaling = train_scaling/len(svm_clf_train_scaling)\n",
    "bc_acc_test_scaling = test_scaling/len(svm_clf_test_scaling)\n",
    "print(bc_acc_train_noscaling)\n",
    "print(bc_acc_test_noscaling)\n",
    "print(bc_acc_train_scaling)\n",
    "print(bc_acc_test_scaling)"
   ]
  }
 ],
 "metadata": {
  "kernelspec": {
   "display_name": "Python 3 (ipykernel)",
   "language": "python",
   "name": "python3"
  },
  "language_info": {
   "codemirror_mode": {
    "name": "ipython",
    "version": 3
   },
   "file_extension": ".py",
   "mimetype": "text/x-python",
   "name": "python",
   "nbconvert_exporter": "python",
   "pygments_lexer": "ipython3",
   "version": "3.9.7"
  }
 },
 "nbformat": 4,
 "nbformat_minor": 5
}
